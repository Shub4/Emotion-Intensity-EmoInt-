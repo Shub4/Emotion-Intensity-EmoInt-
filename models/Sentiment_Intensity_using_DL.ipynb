{
 "cells": [
  {
   "cell_type": "markdown",
   "metadata": {},
   "source": [
    "## Deep Learning for Predicting Sentiment Intensity"
   ]
  },
  {
   "cell_type": "code",
   "execution_count": 1,
   "metadata": {},
   "outputs": [],
   "source": [
    "#Importing required Libraries\n",
    "\n",
    "import numpy as np\n",
    "import pandas as pd\n",
    "import nltk\n",
    "import string\n",
    "import re\n",
    "from nltk.tokenize import word_tokenize\n",
    "from nltk.corpus import stopwords\n",
    "\n",
    "import warnings\n",
    "warnings.filterwarnings(\"ignore\")"
   ]
  },
  {
   "cell_type": "markdown",
   "metadata": {},
   "source": [
    "#### Working on Training Set"
   ]
  },
  {
   "cell_type": "code",
   "execution_count": 2,
   "metadata": {},
   "outputs": [],
   "source": [
    "anger_train=pd.read_csv(\"anger.csv\")\n",
    "fear_train=pd.read_csv(\"fear.csv\")\n",
    "joy_train=pd.read_csv(\"joy.csv\")\n",
    "sadness_train=pd.read_csv(\"sadness.csv\")"
   ]
  },
  {
   "cell_type": "code",
   "execution_count": 3,
   "metadata": {},
   "outputs": [
    {
     "data": {
      "text/html": [
       "<div>\n",
       "<style scoped>\n",
       "    .dataframe tbody tr th:only-of-type {\n",
       "        vertical-align: middle;\n",
       "    }\n",
       "\n",
       "    .dataframe tbody tr th {\n",
       "        vertical-align: top;\n",
       "    }\n",
       "\n",
       "    .dataframe thead th {\n",
       "        text-align: right;\n",
       "    }\n",
       "</style>\n",
       "<table border=\"1\" class=\"dataframe\">\n",
       "  <thead>\n",
       "    <tr style=\"text-align: right;\">\n",
       "      <th></th>\n",
       "      <th>id</th>\n",
       "      <th>tweet</th>\n",
       "      <th>emotion</th>\n",
       "      <th>score</th>\n",
       "    </tr>\n",
       "  </thead>\n",
       "  <tbody>\n",
       "    <tr>\n",
       "      <th>0</th>\n",
       "      <td>10000</td>\n",
       "      <td>How the fu*k! Who the heck! moved my fridge!.....</td>\n",
       "      <td>anger</td>\n",
       "      <td>0.938</td>\n",
       "    </tr>\n",
       "    <tr>\n",
       "      <th>1</th>\n",
       "      <td>10001</td>\n",
       "      <td>So my Indian Uber driver just called someone t...</td>\n",
       "      <td>anger</td>\n",
       "      <td>0.896</td>\n",
       "    </tr>\n",
       "    <tr>\n",
       "      <th>2</th>\n",
       "      <td>10002</td>\n",
       "      <td>@DPD_UK I asked for my parcel to be delivered ...</td>\n",
       "      <td>anger</td>\n",
       "      <td>0.896</td>\n",
       "    </tr>\n",
       "    <tr>\n",
       "      <th>3</th>\n",
       "      <td>10003</td>\n",
       "      <td>so ef whichever butt wipe pulled the fire alar...</td>\n",
       "      <td>anger</td>\n",
       "      <td>0.896</td>\n",
       "    </tr>\n",
       "    <tr>\n",
       "      <th>4</th>\n",
       "      <td>10004</td>\n",
       "      <td>Don't join @BTCare they put the phone down on ...</td>\n",
       "      <td>anger</td>\n",
       "      <td>0.896</td>\n",
       "    </tr>\n",
       "    <tr>\n",
       "      <th>...</th>\n",
       "      <td>...</td>\n",
       "      <td>...</td>\n",
       "      <td>...</td>\n",
       "      <td>...</td>\n",
       "    </tr>\n",
       "    <tr>\n",
       "      <th>781</th>\n",
       "      <td>40781</td>\n",
       "      <td>@VivienLloyd Thank you so much! Just home - st...</td>\n",
       "      <td>sadness</td>\n",
       "      <td>0.104</td>\n",
       "    </tr>\n",
       "    <tr>\n",
       "      <th>782</th>\n",
       "      <td>40782</td>\n",
       "      <td>Just put the winter duvet on â˜ƒï¸â„ï¸ðŸŒ¬â...</td>\n",
       "      <td>sadness</td>\n",
       "      <td>0.104</td>\n",
       "    </tr>\n",
       "    <tr>\n",
       "      <th>783</th>\n",
       "      <td>40783</td>\n",
       "      <td>@SilkInSide @TommyJoeRatliff that's so pretty!...</td>\n",
       "      <td>sadness</td>\n",
       "      <td>0.088</td>\n",
       "    </tr>\n",
       "    <tr>\n",
       "      <th>784</th>\n",
       "      <td>40784</td>\n",
       "      <td>@BluesfestByron second artist announcement loo...</td>\n",
       "      <td>sadness</td>\n",
       "      <td>0.083</td>\n",
       "    </tr>\n",
       "    <tr>\n",
       "      <th>785</th>\n",
       "      <td>40785</td>\n",
       "      <td>I can literally eat creamy pesto pasta topped ...</td>\n",
       "      <td>sadness</td>\n",
       "      <td>0.083</td>\n",
       "    </tr>\n",
       "  </tbody>\n",
       "</table>\n",
       "<p>3647 rows × 4 columns</p>\n",
       "</div>"
      ],
      "text/plain": [
       "        id                                              tweet  emotion  score\n",
       "0    10000  How the fu*k! Who the heck! moved my fridge!.....    anger  0.938\n",
       "1    10001  So my Indian Uber driver just called someone t...    anger  0.896\n",
       "2    10002  @DPD_UK I asked for my parcel to be delivered ...    anger  0.896\n",
       "3    10003  so ef whichever butt wipe pulled the fire alar...    anger  0.896\n",
       "4    10004  Don't join @BTCare they put the phone down on ...    anger  0.896\n",
       "..     ...                                                ...      ...    ...\n",
       "781  40781  @VivienLloyd Thank you so much! Just home - st...  sadness  0.104\n",
       "782  40782  Just put the winter duvet on â˜ƒï¸â„ï¸ðŸŒ¬â...  sadness  0.104\n",
       "783  40783  @SilkInSide @TommyJoeRatliff that's so pretty!...  sadness  0.088\n",
       "784  40784  @BluesfestByron second artist announcement loo...  sadness  0.083\n",
       "785  40785  I can literally eat creamy pesto pasta topped ...  sadness  0.083\n",
       "\n",
       "[3647 rows x 4 columns]"
      ]
     },
     "execution_count": 3,
     "metadata": {},
     "output_type": "execute_result"
    }
   ],
   "source": [
    "dataset=pd.concat((anger_train, fear_train, joy_train, sadness_train))\n",
    "dataset"
   ]
  },
  {
   "cell_type": "code",
   "execution_count": 4,
   "metadata": {},
   "outputs": [
    {
     "data": {
      "text/plain": [
       "id         0\n",
       "tweet      0\n",
       "emotion    0\n",
       "score      0\n",
       "dtype: int64"
      ]
     },
     "execution_count": 4,
     "metadata": {},
     "output_type": "execute_result"
    }
   ],
   "source": [
    "dataset.isnull().sum()"
   ]
  },
  {
   "cell_type": "code",
   "execution_count": 5,
   "metadata": {},
   "outputs": [
    {
     "data": {
      "text/html": [
       "<div>\n",
       "<style scoped>\n",
       "    .dataframe tbody tr th:only-of-type {\n",
       "        vertical-align: middle;\n",
       "    }\n",
       "\n",
       "    .dataframe tbody tr th {\n",
       "        vertical-align: top;\n",
       "    }\n",
       "\n",
       "    .dataframe thead th {\n",
       "        text-align: right;\n",
       "    }\n",
       "</style>\n",
       "<table border=\"1\" class=\"dataframe\">\n",
       "  <thead>\n",
       "    <tr style=\"text-align: right;\">\n",
       "      <th></th>\n",
       "      <th>id</th>\n",
       "      <th>tweet</th>\n",
       "      <th>emotion</th>\n",
       "      <th>score</th>\n",
       "    </tr>\n",
       "  </thead>\n",
       "  <tbody>\n",
       "    <tr>\n",
       "      <th>0</th>\n",
       "      <td>10000</td>\n",
       "      <td>How the fu*k! Who the heck! moved my fridge!.....</td>\n",
       "      <td>anger</td>\n",
       "      <td>0.938</td>\n",
       "    </tr>\n",
       "    <tr>\n",
       "      <th>1</th>\n",
       "      <td>10001</td>\n",
       "      <td>So my Indian Uber driver just called someone t...</td>\n",
       "      <td>anger</td>\n",
       "      <td>0.896</td>\n",
       "    </tr>\n",
       "    <tr>\n",
       "      <th>2</th>\n",
       "      <td>10002</td>\n",
       "      <td>@DPD_UK I asked for my parcel to be delivered ...</td>\n",
       "      <td>anger</td>\n",
       "      <td>0.896</td>\n",
       "    </tr>\n",
       "    <tr>\n",
       "      <th>3</th>\n",
       "      <td>10003</td>\n",
       "      <td>so ef whichever butt wipe pulled the fire alar...</td>\n",
       "      <td>anger</td>\n",
       "      <td>0.896</td>\n",
       "    </tr>\n",
       "    <tr>\n",
       "      <th>4</th>\n",
       "      <td>10004</td>\n",
       "      <td>Don't join @BTCare they put the phone down on ...</td>\n",
       "      <td>anger</td>\n",
       "      <td>0.896</td>\n",
       "    </tr>\n",
       "    <tr>\n",
       "      <th>...</th>\n",
       "      <td>...</td>\n",
       "      <td>...</td>\n",
       "      <td>...</td>\n",
       "      <td>...</td>\n",
       "    </tr>\n",
       "    <tr>\n",
       "      <th>3642</th>\n",
       "      <td>40781</td>\n",
       "      <td>@VivienLloyd Thank you so much! Just home - st...</td>\n",
       "      <td>sadness</td>\n",
       "      <td>0.104</td>\n",
       "    </tr>\n",
       "    <tr>\n",
       "      <th>3643</th>\n",
       "      <td>40782</td>\n",
       "      <td>Just put the winter duvet on â˜ƒï¸â„ï¸ðŸŒ¬â...</td>\n",
       "      <td>sadness</td>\n",
       "      <td>0.104</td>\n",
       "    </tr>\n",
       "    <tr>\n",
       "      <th>3644</th>\n",
       "      <td>40783</td>\n",
       "      <td>@SilkInSide @TommyJoeRatliff that's so pretty!...</td>\n",
       "      <td>sadness</td>\n",
       "      <td>0.088</td>\n",
       "    </tr>\n",
       "    <tr>\n",
       "      <th>3645</th>\n",
       "      <td>40784</td>\n",
       "      <td>@BluesfestByron second artist announcement loo...</td>\n",
       "      <td>sadness</td>\n",
       "      <td>0.083</td>\n",
       "    </tr>\n",
       "    <tr>\n",
       "      <th>3646</th>\n",
       "      <td>40785</td>\n",
       "      <td>I can literally eat creamy pesto pasta topped ...</td>\n",
       "      <td>sadness</td>\n",
       "      <td>0.083</td>\n",
       "    </tr>\n",
       "  </tbody>\n",
       "</table>\n",
       "<p>3647 rows × 4 columns</p>\n",
       "</div>"
      ],
      "text/plain": [
       "         id                                              tweet  emotion  score\n",
       "0     10000  How the fu*k! Who the heck! moved my fridge!.....    anger  0.938\n",
       "1     10001  So my Indian Uber driver just called someone t...    anger  0.896\n",
       "2     10002  @DPD_UK I asked for my parcel to be delivered ...    anger  0.896\n",
       "3     10003  so ef whichever butt wipe pulled the fire alar...    anger  0.896\n",
       "4     10004  Don't join @BTCare they put the phone down on ...    anger  0.896\n",
       "...     ...                                                ...      ...    ...\n",
       "3642  40781  @VivienLloyd Thank you so much! Just home - st...  sadness  0.104\n",
       "3643  40782  Just put the winter duvet on â˜ƒï¸â„ï¸ðŸŒ¬â...  sadness  0.104\n",
       "3644  40783  @SilkInSide @TommyJoeRatliff that's so pretty!...  sadness  0.088\n",
       "3645  40784  @BluesfestByron second artist announcement loo...  sadness  0.083\n",
       "3646  40785  I can literally eat creamy pesto pasta topped ...  sadness  0.083\n",
       "\n",
       "[3647 rows x 4 columns]"
      ]
     },
     "execution_count": 5,
     "metadata": {},
     "output_type": "execute_result"
    }
   ],
   "source": [
    "dataset.reset_index(level=None, drop=True, inplace=True)\n",
    "dataset"
   ]
  },
  {
   "cell_type": "code",
   "execution_count": 6,
   "metadata": {},
   "outputs": [
    {
     "data": {
      "text/plain": [
       "fear       1147\n",
       "anger       891\n",
       "joy         823\n",
       "sadness     786\n",
       "Name: emotion, dtype: int64"
      ]
     },
     "execution_count": 6,
     "metadata": {},
     "output_type": "execute_result"
    }
   ],
   "source": [
    "dataset['emotion'].value_counts()"
   ]
  },
  {
   "cell_type": "code",
   "execution_count": 7,
   "metadata": {},
   "outputs": [
    {
     "name": "stdout",
     "output_type": "stream",
     "text": [
      "fear is  31.45 %\n",
      "anger is  24.43 %\n",
      "joy is  22.57 %\n",
      "sadness is  21.55 %\n"
     ]
    }
   ],
   "source": [
    "for i in range(0,4):\n",
    "    print(dataset['emotion'].value_counts().index[i],\"is \", \n",
    "          np.round((dataset['emotion'].value_counts()[i]/dataset.shape[0]), 4)*100,\"%\")"
   ]
  },
  {
   "cell_type": "markdown",
   "metadata": {},
   "source": [
    "* Data is quite balanced"
   ]
  },
  {
   "cell_type": "markdown",
   "metadata": {},
   "source": [
    "#### Text Preprocessing (Cleaning)"
   ]
  },
  {
   "cell_type": "code",
   "execution_count": 8,
   "metadata": {},
   "outputs": [],
   "source": [
    "remove_punctuation = dict((ord(char), None) for char in string.punctuation)\n",
    "remove_numbers = dict((ord(str(num)), None) for num in np.arange(0,10))"
   ]
  },
  {
   "cell_type": "code",
   "execution_count": 9,
   "metadata": {},
   "outputs": [],
   "source": [
    "def clean_text(data):\n",
    "        import re\n",
    "        rem1=r'#[A-Za-z0-9_]+'\n",
    "        rem2=r'@[A-Za-z0-9_]+'\n",
    "        rem3=r'https?://[A-Za-z0-9./]+'\n",
    "        pair=r'|'.join((rem1,rem2,rem3))\n",
    "        tweet_=re.sub(pair,'', data)\n",
    "        letters_only=re.sub('[^a-zA-Z]', ' ',tweet_)\n",
    "        lower_case=letters_only.lower()\n",
    "        string_=(lower_case.translate(remove_punctuation)).translate(remove_numbers)\n",
    "        stoplist = stopwords.words('english')\n",
    "        clean=[x for x in nltk.word_tokenize(string_) if x not in stoplist]\n",
    "        cleaned= ' '.join(clean)\n",
    "        \n",
    "        return cleaned"
   ]
  },
  {
   "cell_type": "code",
   "execution_count": 10,
   "metadata": {},
   "outputs": [
    {
     "data": {
      "text/html": [
       "<div>\n",
       "<style scoped>\n",
       "    .dataframe tbody tr th:only-of-type {\n",
       "        vertical-align: middle;\n",
       "    }\n",
       "\n",
       "    .dataframe tbody tr th {\n",
       "        vertical-align: top;\n",
       "    }\n",
       "\n",
       "    .dataframe thead th {\n",
       "        text-align: right;\n",
       "    }\n",
       "</style>\n",
       "<table border=\"1\" class=\"dataframe\">\n",
       "  <thead>\n",
       "    <tr style=\"text-align: right;\">\n",
       "      <th></th>\n",
       "      <th>id</th>\n",
       "      <th>tweet</th>\n",
       "      <th>emotion</th>\n",
       "      <th>score</th>\n",
       "    </tr>\n",
       "  </thead>\n",
       "  <tbody>\n",
       "    <tr>\n",
       "      <th>0</th>\n",
       "      <td>10000</td>\n",
       "      <td>fu k heck moved fridge knock landlord door</td>\n",
       "      <td>anger</td>\n",
       "      <td>0.938</td>\n",
       "    </tr>\n",
       "    <tr>\n",
       "      <th>1</th>\n",
       "      <td>10001</td>\n",
       "      <td>indian uber driver called someone n word movin...</td>\n",
       "      <td>anger</td>\n",
       "      <td>0.896</td>\n",
       "    </tr>\n",
       "    <tr>\n",
       "      <th>2</th>\n",
       "      <td>10002</td>\n",
       "      <td>asked parcel delivered pick store address</td>\n",
       "      <td>anger</td>\n",
       "      <td>0.896</td>\n",
       "    </tr>\n",
       "    <tr>\n",
       "      <th>3</th>\n",
       "      <td>10003</td>\n",
       "      <td>ef whichever butt wipe pulled fire alarm davis...</td>\n",
       "      <td>anger</td>\n",
       "      <td>0.896</td>\n",
       "    </tr>\n",
       "    <tr>\n",
       "      <th>4</th>\n",
       "      <td>10004</td>\n",
       "      <td>join put phone talk rude taking money acc will...</td>\n",
       "      <td>anger</td>\n",
       "      <td>0.896</td>\n",
       "    </tr>\n",
       "    <tr>\n",
       "      <th>...</th>\n",
       "      <td>...</td>\n",
       "      <td>...</td>\n",
       "      <td>...</td>\n",
       "      <td>...</td>\n",
       "    </tr>\n",
       "    <tr>\n",
       "      <th>3642</th>\n",
       "      <td>40781</td>\n",
       "      <td>thank much home stunned happy think sunk yet wow</td>\n",
       "      <td>sadness</td>\n",
       "      <td>0.104</td>\n",
       "    </tr>\n",
       "    <tr>\n",
       "      <th>3643</th>\n",
       "      <td>40782</td>\n",
       "      <td>put winter duvet</td>\n",
       "      <td>sadness</td>\n",
       "      <td>0.104</td>\n",
       "    </tr>\n",
       "    <tr>\n",
       "      <th>3644</th>\n",
       "      <td>40783</td>\n",
       "      <td>pretty love sky background purple highlights d...</td>\n",
       "      <td>sadness</td>\n",
       "      <td>0.088</td>\n",
       "    </tr>\n",
       "    <tr>\n",
       "      <th>3645</th>\n",
       "      <td>40784</td>\n",
       "      <td>second artist announcement looking good</td>\n",
       "      <td>sadness</td>\n",
       "      <td>0.083</td>\n",
       "    </tr>\n",
       "    <tr>\n",
       "      <th>3646</th>\n",
       "      <td>40785</td>\n",
       "      <td>literally eat creamy pesto pasta topped grille...</td>\n",
       "      <td>sadness</td>\n",
       "      <td>0.083</td>\n",
       "    </tr>\n",
       "  </tbody>\n",
       "</table>\n",
       "<p>3647 rows × 4 columns</p>\n",
       "</div>"
      ],
      "text/plain": [
       "         id                                              tweet  emotion  score\n",
       "0     10000         fu k heck moved fridge knock landlord door    anger  0.938\n",
       "1     10001  indian uber driver called someone n word movin...    anger  0.896\n",
       "2     10002          asked parcel delivered pick store address    anger  0.896\n",
       "3     10003  ef whichever butt wipe pulled fire alarm davis...    anger  0.896\n",
       "4     10004  join put phone talk rude taking money acc will...    anger  0.896\n",
       "...     ...                                                ...      ...    ...\n",
       "3642  40781   thank much home stunned happy think sunk yet wow  sadness  0.104\n",
       "3643  40782                                   put winter duvet  sadness  0.104\n",
       "3644  40783  pretty love sky background purple highlights d...  sadness  0.088\n",
       "3645  40784            second artist announcement looking good  sadness  0.083\n",
       "3646  40785  literally eat creamy pesto pasta topped grille...  sadness  0.083\n",
       "\n",
       "[3647 rows x 4 columns]"
      ]
     },
     "execution_count": 10,
     "metadata": {},
     "output_type": "execute_result"
    }
   ],
   "source": [
    "for i in range(0, dataset.shape[0]):\n",
    "    dataset['tweet'][i]=clean_text(dataset['tweet'][i])\n",
    "dataset"
   ]
  },
  {
   "cell_type": "markdown",
   "metadata": {},
   "source": [
    "#### Converting to array to list to perform operations"
   ]
  },
  {
   "cell_type": "code",
   "execution_count": 11,
   "metadata": {},
   "outputs": [],
   "source": [
    "data = dataset['tweet'].values.tolist()"
   ]
  },
  {
   "cell_type": "code",
   "execution_count": 18,
   "metadata": {},
   "outputs": [],
   "source": [
    "from keras.preprocessing.text import Tokenizer\n",
    "from keras.preprocessing.sequence import pad_sequences\n",
    "\n",
    "max_words = 5000\n",
    "max_len = 200\n",
    "def to_vectors(data):\n",
    "    \n",
    "    tokenizer = Tokenizer(num_words=max_words)\n",
    "    tokenizer.fit_on_texts(data)\n",
    "\n",
    "    # converts into 2D array\n",
    "    sequences = tokenizer.texts_to_sequences(data)\n",
    "    return pad_sequences(sequences, maxlen=max_len)\n"
   ]
  },
  {
   "cell_type": "code",
   "execution_count": 14,
   "metadata": {},
   "outputs": [
    {
     "data": {
      "text/plain": [
       "array([[   0,    0,    0, ..., 2059, 2060,  962],\n",
       "       [   0,    0,    0, ...,  429, 2061, 1168],\n",
       "       [   0,    0,    0, ...,  430,  829,  963],\n",
       "       ...,\n",
       "       [   0,    0,    0, ...,  347, 1082,   63],\n",
       "       [   0,    0,    0, ..., 3500,  187,   10],\n",
       "       [   0,    0,    0, ...,  712,    7,   34]])"
      ]
     },
     "execution_count": 14,
     "metadata": {},
     "output_type": "execute_result"
    }
   ],
   "source": [
    "tweets=to_vectors(data)\n",
    "tweets"
   ]
  },
  {
   "cell_type": "code",
   "execution_count": 15,
   "metadata": {},
   "outputs": [
    {
     "data": {
      "text/plain": [
       "(3647, 200)"
      ]
     },
     "execution_count": 15,
     "metadata": {},
     "output_type": "execute_result"
    }
   ],
   "source": [
    "tweets.shape"
   ]
  },
  {
   "cell_type": "markdown",
   "metadata": {},
   "source": [
    "#### Using LSTM for training"
   ]
  },
  {
   "cell_type": "code",
   "execution_count": 19,
   "metadata": {},
   "outputs": [
    {
     "name": "stdout",
     "output_type": "stream",
     "text": [
      "Epoch 1/5\n",
      "114/114 [==============================] - 12s 87ms/step - loss: 0.0369 - mse: 0.0369\n",
      "Epoch 2/5\n",
      "114/114 [==============================] - 10s 88ms/step - loss: 0.0349 - mse: 0.0349\n",
      "Epoch 3/5\n",
      "114/114 [==============================] - 10s 88ms/step - loss: 0.0304 - mse: 0.0304\n",
      "Epoch 4/5\n",
      "114/114 [==============================] - 10s 85ms/step - loss: 0.0256 - mse: 0.0256\n",
      "Epoch 5/5\n",
      "114/114 [==============================] - 10s 91ms/step - loss: 0.0228 - mse: 0.0228\n"
     ]
    },
    {
     "data": {
      "text/plain": [
       "<keras.callbacks.History at 0x1745f795400>"
      ]
     },
     "execution_count": 19,
     "metadata": {},
     "output_type": "execute_result"
    }
   ],
   "source": [
    "from keras.models import Sequential\n",
    "from keras import layers\n",
    "\n",
    "\n",
    "rnn = Sequential()\n",
    "rnn.add(layers.Embedding(max_words, 20)) # using embedding layer to convert the vectors into tensors\n",
    "rnn.add(layers.LSTM(15,dropout=0.5))\n",
    "#rnn.add(layers.LSTM(15))\n",
    "rnn.add(layers.Dense(1,activation='sigmoid'))\n",
    "\n",
    "\n",
    "rnn.compile(optimizer='RMSProp',loss='mse', metrics=['mse'])\n",
    "rnn.fit(tweets, dataset['score'].ravel(), epochs=5)"
   ]
  },
  {
   "cell_type": "markdown",
   "metadata": {},
   "source": [
    "#### Predicting on developement set"
   ]
  },
  {
   "cell_type": "code",
   "execution_count": 20,
   "metadata": {},
   "outputs": [
    {
     "data": {
      "text/html": [
       "<div>\n",
       "<style scoped>\n",
       "    .dataframe tbody tr th:only-of-type {\n",
       "        vertical-align: middle;\n",
       "    }\n",
       "\n",
       "    .dataframe tbody tr th {\n",
       "        vertical-align: top;\n",
       "    }\n",
       "\n",
       "    .dataframe thead th {\n",
       "        text-align: right;\n",
       "    }\n",
       "</style>\n",
       "<table border=\"1\" class=\"dataframe\">\n",
       "  <thead>\n",
       "    <tr style=\"text-align: right;\">\n",
       "      <th></th>\n",
       "      <th>id</th>\n",
       "      <th>tweet</th>\n",
       "      <th>emotion</th>\n",
       "      <th>score</th>\n",
       "    </tr>\n",
       "  </thead>\n",
       "  <tbody>\n",
       "    <tr>\n",
       "      <th>0</th>\n",
       "      <td>10857</td>\n",
       "      <td>@ZubairSabirPTI  pls dont insult the word 'Molna'</td>\n",
       "      <td>anger</td>\n",
       "      <td>0.479</td>\n",
       "    </tr>\n",
       "    <tr>\n",
       "      <th>1</th>\n",
       "      <td>10858</td>\n",
       "      <td>@ArcticFantasy I would have almost took offens...</td>\n",
       "      <td>anger</td>\n",
       "      <td>0.458</td>\n",
       "    </tr>\n",
       "    <tr>\n",
       "      <th>2</th>\n",
       "      <td>10859</td>\n",
       "      <td>@IllinoisLoyalty that Rutgers game was an abom...</td>\n",
       "      <td>anger</td>\n",
       "      <td>0.562</td>\n",
       "    </tr>\n",
       "    <tr>\n",
       "      <th>3</th>\n",
       "      <td>10860</td>\n",
       "      <td>@CozanGaming that's what lisa asked before she...</td>\n",
       "      <td>anger</td>\n",
       "      <td>0.500</td>\n",
       "    </tr>\n",
       "    <tr>\n",
       "      <th>4</th>\n",
       "      <td>10861</td>\n",
       "      <td>Sometimes I get mad over something so minuscul...</td>\n",
       "      <td>anger</td>\n",
       "      <td>0.708</td>\n",
       "    </tr>\n",
       "    <tr>\n",
       "      <th>...</th>\n",
       "      <td>...</td>\n",
       "      <td>...</td>\n",
       "      <td>...</td>\n",
       "      <td>...</td>\n",
       "    </tr>\n",
       "    <tr>\n",
       "      <th>79</th>\n",
       "      <td>10936</td>\n",
       "      <td>@Jen_ny69 People will always get offended ever...</td>\n",
       "      <td>anger</td>\n",
       "      <td>0.562</td>\n",
       "    </tr>\n",
       "    <tr>\n",
       "      <th>80</th>\n",
       "      <td>10937</td>\n",
       "      <td>@gayla_weeks1 I try not to let my anger seep i...</td>\n",
       "      <td>anger</td>\n",
       "      <td>0.625</td>\n",
       "    </tr>\n",
       "    <tr>\n",
       "      <th>81</th>\n",
       "      <td>10938</td>\n",
       "      <td>I hope my hustle don't offend nobody</td>\n",
       "      <td>anger</td>\n",
       "      <td>0.292</td>\n",
       "    </tr>\n",
       "    <tr>\n",
       "      <th>82</th>\n",
       "      <td>10939</td>\n",
       "      <td>Just watched Django Unchained, Other people ma...</td>\n",
       "      <td>anger</td>\n",
       "      <td>0.229</td>\n",
       "    </tr>\n",
       "    <tr>\n",
       "      <th>83</th>\n",
       "      <td>10940</td>\n",
       "      <td>Lol little things like that make me so angry x</td>\n",
       "      <td>anger</td>\n",
       "      <td>0.604</td>\n",
       "    </tr>\n",
       "  </tbody>\n",
       "</table>\n",
       "<p>84 rows × 4 columns</p>\n",
       "</div>"
      ],
      "text/plain": [
       "       id                                              tweet emotion  score\n",
       "0   10857  @ZubairSabirPTI  pls dont insult the word 'Molna'   anger  0.479\n",
       "1   10858  @ArcticFantasy I would have almost took offens...   anger  0.458\n",
       "2   10859  @IllinoisLoyalty that Rutgers game was an abom...   anger  0.562\n",
       "3   10860  @CozanGaming that's what lisa asked before she...   anger  0.500\n",
       "4   10861  Sometimes I get mad over something so minuscul...   anger  0.708\n",
       "..    ...                                                ...     ...    ...\n",
       "79  10936  @Jen_ny69 People will always get offended ever...   anger  0.562\n",
       "80  10937  @gayla_weeks1 I try not to let my anger seep i...   anger  0.625\n",
       "81  10938               I hope my hustle don't offend nobody   anger  0.292\n",
       "82  10939  Just watched Django Unchained, Other people ma...   anger  0.229\n",
       "83  10940     Lol little things like that make me so angry x   anger  0.604\n",
       "\n",
       "[84 rows x 4 columns]"
      ]
     },
     "execution_count": 20,
     "metadata": {},
     "output_type": "execute_result"
    }
   ],
   "source": [
    "anger_dev=pd.read_csv(\"anger_dev.csv\")\n",
    "anger_dev"
   ]
  },
  {
   "cell_type": "code",
   "execution_count": 21,
   "metadata": {},
   "outputs": [
    {
     "data": {
      "text/html": [
       "<div>\n",
       "<style scoped>\n",
       "    .dataframe tbody tr th:only-of-type {\n",
       "        vertical-align: middle;\n",
       "    }\n",
       "\n",
       "    .dataframe tbody tr th {\n",
       "        vertical-align: top;\n",
       "    }\n",
       "\n",
       "    .dataframe thead th {\n",
       "        text-align: right;\n",
       "    }\n",
       "</style>\n",
       "<table border=\"1\" class=\"dataframe\">\n",
       "  <thead>\n",
       "    <tr style=\"text-align: right;\">\n",
       "      <th></th>\n",
       "      <th>id</th>\n",
       "      <th>tweet</th>\n",
       "      <th>emotion</th>\n",
       "      <th>score</th>\n",
       "    </tr>\n",
       "  </thead>\n",
       "  <tbody>\n",
       "    <tr>\n",
       "      <th>0</th>\n",
       "      <td>10857</td>\n",
       "      <td>pls dont insult word molna</td>\n",
       "      <td>anger</td>\n",
       "      <td>0.479</td>\n",
       "    </tr>\n",
       "    <tr>\n",
       "      <th>1</th>\n",
       "      <td>10858</td>\n",
       "      <td>would almost took offense actually snapped</td>\n",
       "      <td>anger</td>\n",
       "      <td>0.458</td>\n",
       "    </tr>\n",
       "    <tr>\n",
       "      <th>2</th>\n",
       "      <td>10859</td>\n",
       "      <td>rutgers game abomination affront god man must ...</td>\n",
       "      <td>anger</td>\n",
       "      <td>0.562</td>\n",
       "    </tr>\n",
       "    <tr>\n",
       "      <th>3</th>\n",
       "      <td>10860</td>\n",
       "      <td>lisa asked started raging call heh</td>\n",
       "      <td>anger</td>\n",
       "      <td>0.500</td>\n",
       "    </tr>\n",
       "    <tr>\n",
       "      <th>4</th>\n",
       "      <td>10861</td>\n",
       "      <td>sometimes get mad something minuscule try ruin...</td>\n",
       "      <td>anger</td>\n",
       "      <td>0.708</td>\n",
       "    </tr>\n",
       "    <tr>\n",
       "      <th>...</th>\n",
       "      <td>...</td>\n",
       "      <td>...</td>\n",
       "      <td>...</td>\n",
       "      <td>...</td>\n",
       "    </tr>\n",
       "    <tr>\n",
       "      <th>79</th>\n",
       "      <td>10936</td>\n",
       "      <td>people always get offended everyone situation ...</td>\n",
       "      <td>anger</td>\n",
       "      <td>0.562</td>\n",
       "    </tr>\n",
       "    <tr>\n",
       "      <th>80</th>\n",
       "      <td>10937</td>\n",
       "      <td>try let anger seep reviews resent time wasted ...</td>\n",
       "      <td>anger</td>\n",
       "      <td>0.625</td>\n",
       "    </tr>\n",
       "    <tr>\n",
       "      <th>81</th>\n",
       "      <td>10938</td>\n",
       "      <td>hope hustle offend nobody</td>\n",
       "      <td>anger</td>\n",
       "      <td>0.292</td>\n",
       "    </tr>\n",
       "    <tr>\n",
       "      <th>82</th>\n",
       "      <td>10939</td>\n",
       "      <td>watched django unchained people may frown titt...</td>\n",
       "      <td>anger</td>\n",
       "      <td>0.229</td>\n",
       "    </tr>\n",
       "    <tr>\n",
       "      <th>83</th>\n",
       "      <td>10940</td>\n",
       "      <td>lol little things like make angry x</td>\n",
       "      <td>anger</td>\n",
       "      <td>0.604</td>\n",
       "    </tr>\n",
       "  </tbody>\n",
       "</table>\n",
       "<p>84 rows × 4 columns</p>\n",
       "</div>"
      ],
      "text/plain": [
       "       id                                              tweet emotion  score\n",
       "0   10857                         pls dont insult word molna   anger  0.479\n",
       "1   10858         would almost took offense actually snapped   anger  0.458\n",
       "2   10859  rutgers game abomination affront god man must ...   anger  0.562\n",
       "3   10860                 lisa asked started raging call heh   anger  0.500\n",
       "4   10861  sometimes get mad something minuscule try ruin...   anger  0.708\n",
       "..    ...                                                ...     ...    ...\n",
       "79  10936  people always get offended everyone situation ...   anger  0.562\n",
       "80  10937  try let anger seep reviews resent time wasted ...   anger  0.625\n",
       "81  10938                          hope hustle offend nobody   anger  0.292\n",
       "82  10939  watched django unchained people may frown titt...   anger  0.229\n",
       "83  10940                lol little things like make angry x   anger  0.604\n",
       "\n",
       "[84 rows x 4 columns]"
      ]
     },
     "execution_count": 21,
     "metadata": {},
     "output_type": "execute_result"
    }
   ],
   "source": [
    "for i in range(0, anger_dev.shape[0]):\n",
    "    anger_dev['tweet'][i]=clean_text(anger_dev['tweet'][i])\n",
    "anger_dev"
   ]
  },
  {
   "cell_type": "code",
   "execution_count": 22,
   "metadata": {},
   "outputs": [],
   "source": [
    "dev = anger_dev['tweet'].values.tolist()"
   ]
  },
  {
   "cell_type": "code",
   "execution_count": 23,
   "metadata": {},
   "outputs": [
    {
     "data": {
      "text/plain": [
       "array([[  0,   0,   0, ...,   7, 149, 150],\n",
       "       [  0,   0,   0, ...,  39,  40, 153],\n",
       "       [  0,   0,   0, ...,  19,   9, 157],\n",
       "       ...,\n",
       "       [  0,   0,   0, ..., 436,  16, 437],\n",
       "       [  0,   0,   0, ...,  32, 441, 442],\n",
       "       [  0,   0,   0, ..., 100, 145, 444]])"
      ]
     },
     "execution_count": 23,
     "metadata": {},
     "output_type": "execute_result"
    }
   ],
   "source": [
    "tweet=to_vectors(dev)\n",
    "tweet"
   ]
  },
  {
   "cell_type": "code",
   "execution_count": 24,
   "metadata": {},
   "outputs": [
    {
     "name": "stdout",
     "output_type": "stream",
     "text": [
      "3/3 [==============================] - 1s 28ms/step - loss: 0.0235 - mse: 0.0235\n"
     ]
    },
    {
     "data": {
      "text/plain": [
       "[0.02353881672024727, 0.02353881672024727]"
      ]
     },
     "execution_count": 24,
     "metadata": {},
     "output_type": "execute_result"
    }
   ],
   "source": [
    "rnn.evaluate(tweet, anger_dev['score'].ravel())"
   ]
  },
  {
   "cell_type": "code",
   "execution_count": 25,
   "metadata": {},
   "outputs": [],
   "source": [
    "y_pred=rnn.predict(tweet)"
   ]
  },
  {
   "cell_type": "code",
   "execution_count": 26,
   "metadata": {},
   "outputs": [
    {
     "data": {
      "text/plain": [
       "array([0.48647508, 0.63652277, 0.57361966, 0.5775033 , 0.5414392 ,\n",
       "       0.5414392 , 0.5057754 , 0.5674544 , 0.48366922, 0.48366922,\n",
       "       0.4777313 , 0.55303586, 0.541138  , 0.3740271 , 0.3740271 ,\n",
       "       0.52019095, 0.52019095, 0.5085964 , 0.5348288 , 0.4176253 ,\n",
       "       0.5953248 , 0.59689534, 0.5196039 , 0.5196039 , 0.6479106 ,\n",
       "       0.3281256 , 0.46466494, 0.44786423, 0.4074757 , 0.6386478 ,\n",
       "       0.33453524, 0.44475102, 0.58538336, 0.48101154, 0.2676575 ,\n",
       "       0.5833416 , 0.5833416 , 0.44911736, 0.40173432, 0.5436402 ,\n",
       "       0.40403384, 0.36344764, 0.49279392, 0.49279392, 0.55915743,\n",
       "       0.3523501 , 0.6583074 , 0.4882983 , 0.33785796, 0.42259562,\n",
       "       0.42259562, 0.30356526, 0.35168743, 0.36780006, 0.36780006,\n",
       "       0.48504406, 0.6432126 , 0.55165124, 0.37005463, 0.45679215,\n",
       "       0.40559   , 0.4377302 , 0.42999542, 0.42999542, 0.33697698,\n",
       "       0.47454044, 0.4482162 , 0.4159259 , 0.4159259 , 0.6459558 ,\n",
       "       0.26712853, 0.26712853, 0.51643676, 0.635412  , 0.49807206,\n",
       "       0.46413428, 0.44647416, 0.17795393, 0.57394767, 0.5491625 ,\n",
       "       0.42359474, 0.3657657 , 0.4364095 , 0.46634716], dtype=float32)"
      ]
     },
     "execution_count": 26,
     "metadata": {},
     "output_type": "execute_result"
    }
   ],
   "source": [
    "y_pred_out=y_pred.ravel()\n",
    "y_pred_out"
   ]
  },
  {
   "cell_type": "code",
   "execution_count": 27,
   "metadata": {},
   "outputs": [],
   "source": [
    "score=np.array(anger_dev['score'])"
   ]
  },
  {
   "cell_type": "code",
   "execution_count": 28,
   "metadata": {
    "scrolled": true
   },
   "outputs": [
    {
     "data": {
      "text/html": [
       "<div>\n",
       "<style scoped>\n",
       "    .dataframe tbody tr th:only-of-type {\n",
       "        vertical-align: middle;\n",
       "    }\n",
       "\n",
       "    .dataframe tbody tr th {\n",
       "        vertical-align: top;\n",
       "    }\n",
       "\n",
       "    .dataframe thead th {\n",
       "        text-align: right;\n",
       "    }\n",
       "</style>\n",
       "<table border=\"1\" class=\"dataframe\">\n",
       "  <thead>\n",
       "    <tr style=\"text-align: right;\">\n",
       "      <th></th>\n",
       "      <th>Actual</th>\n",
       "      <th>Predicted</th>\n",
       "    </tr>\n",
       "  </thead>\n",
       "  <tbody>\n",
       "    <tr>\n",
       "      <th>0</th>\n",
       "      <td>0.479</td>\n",
       "      <td>0.486475</td>\n",
       "    </tr>\n",
       "    <tr>\n",
       "      <th>1</th>\n",
       "      <td>0.458</td>\n",
       "      <td>0.636523</td>\n",
       "    </tr>\n",
       "    <tr>\n",
       "      <th>2</th>\n",
       "      <td>0.562</td>\n",
       "      <td>0.573620</td>\n",
       "    </tr>\n",
       "    <tr>\n",
       "      <th>3</th>\n",
       "      <td>0.500</td>\n",
       "      <td>0.577503</td>\n",
       "    </tr>\n",
       "    <tr>\n",
       "      <th>4</th>\n",
       "      <td>0.708</td>\n",
       "      <td>0.541439</td>\n",
       "    </tr>\n",
       "    <tr>\n",
       "      <th>...</th>\n",
       "      <td>...</td>\n",
       "      <td>...</td>\n",
       "    </tr>\n",
       "    <tr>\n",
       "      <th>79</th>\n",
       "      <td>0.562</td>\n",
       "      <td>0.549163</td>\n",
       "    </tr>\n",
       "    <tr>\n",
       "      <th>80</th>\n",
       "      <td>0.625</td>\n",
       "      <td>0.423595</td>\n",
       "    </tr>\n",
       "    <tr>\n",
       "      <th>81</th>\n",
       "      <td>0.292</td>\n",
       "      <td>0.365766</td>\n",
       "    </tr>\n",
       "    <tr>\n",
       "      <th>82</th>\n",
       "      <td>0.229</td>\n",
       "      <td>0.436410</td>\n",
       "    </tr>\n",
       "    <tr>\n",
       "      <th>83</th>\n",
       "      <td>0.604</td>\n",
       "      <td>0.466347</td>\n",
       "    </tr>\n",
       "  </tbody>\n",
       "</table>\n",
       "<p>84 rows × 2 columns</p>\n",
       "</div>"
      ],
      "text/plain": [
       "    Actual  Predicted\n",
       "0    0.479   0.486475\n",
       "1    0.458   0.636523\n",
       "2    0.562   0.573620\n",
       "3    0.500   0.577503\n",
       "4    0.708   0.541439\n",
       "..     ...        ...\n",
       "79   0.562   0.549163\n",
       "80   0.625   0.423595\n",
       "81   0.292   0.365766\n",
       "82   0.229   0.436410\n",
       "83   0.604   0.466347\n",
       "\n",
       "[84 rows x 2 columns]"
      ]
     },
     "execution_count": 28,
     "metadata": {},
     "output_type": "execute_result"
    }
   ],
   "source": [
    "data1=pd.DataFrame({'Actual':score, 'Predicted':y_pred_out})\n",
    "data1"
   ]
  },
  {
   "cell_type": "code",
   "execution_count": 29,
   "metadata": {},
   "outputs": [
    {
     "data": {
      "text/html": [
       "<div>\n",
       "<style scoped>\n",
       "    .dataframe tbody tr th:only-of-type {\n",
       "        vertical-align: middle;\n",
       "    }\n",
       "\n",
       "    .dataframe tbody tr th {\n",
       "        vertical-align: top;\n",
       "    }\n",
       "\n",
       "    .dataframe thead th {\n",
       "        text-align: right;\n",
       "    }\n",
       "</style>\n",
       "<table border=\"1\" class=\"dataframe\">\n",
       "  <thead>\n",
       "    <tr style=\"text-align: right;\">\n",
       "      <th></th>\n",
       "      <th>Actual</th>\n",
       "      <th>Predicted</th>\n",
       "    </tr>\n",
       "  </thead>\n",
       "  <tbody>\n",
       "    <tr>\n",
       "      <th>Actual</th>\n",
       "      <td>1.000000</td>\n",
       "      <td>0.358029</td>\n",
       "    </tr>\n",
       "    <tr>\n",
       "      <th>Predicted</th>\n",
       "      <td>0.358029</td>\n",
       "      <td>1.000000</td>\n",
       "    </tr>\n",
       "  </tbody>\n",
       "</table>\n",
       "</div>"
      ],
      "text/plain": [
       "             Actual  Predicted\n",
       "Actual     1.000000   0.358029\n",
       "Predicted  0.358029   1.000000"
      ]
     },
     "execution_count": 29,
     "metadata": {},
     "output_type": "execute_result"
    }
   ],
   "source": [
    "data1.corr()"
   ]
  },
  {
   "cell_type": "markdown",
   "metadata": {},
   "source": [
    "#### Prediction on Test Set"
   ]
  },
  {
   "cell_type": "code",
   "execution_count": 30,
   "metadata": {},
   "outputs": [],
   "source": [
    "anger_test=pd.read_csv(\"anger_test.csv\")\n",
    "fear_test=pd.read_csv(\"fear_test.csv\")\n",
    "joy_test=pd.read_csv(\"joy_test.csv\")\n",
    "sadness_test=pd.read_csv(\"sadness_test.csv\")"
   ]
  },
  {
   "cell_type": "code",
   "execution_count": 31,
   "metadata": {},
   "outputs": [
    {
     "data": {
      "text/html": [
       "<div>\n",
       "<style scoped>\n",
       "    .dataframe tbody tr th:only-of-type {\n",
       "        vertical-align: middle;\n",
       "    }\n",
       "\n",
       "    .dataframe tbody tr th {\n",
       "        vertical-align: top;\n",
       "    }\n",
       "\n",
       "    .dataframe thead th {\n",
       "        text-align: right;\n",
       "    }\n",
       "</style>\n",
       "<table border=\"1\" class=\"dataframe\">\n",
       "  <thead>\n",
       "    <tr style=\"text-align: right;\">\n",
       "      <th></th>\n",
       "      <th>id</th>\n",
       "      <th>tweet</th>\n",
       "      <th>emotion</th>\n",
       "      <th>score</th>\n",
       "    </tr>\n",
       "  </thead>\n",
       "  <tbody>\n",
       "    <tr>\n",
       "      <th>0</th>\n",
       "      <td>10941</td>\n",
       "      <td>At the point today where if someone says somet...</td>\n",
       "      <td>anger</td>\n",
       "      <td>NONE</td>\n",
       "    </tr>\n",
       "    <tr>\n",
       "      <th>1</th>\n",
       "      <td>10942</td>\n",
       "      <td>@CorningFootball  IT'S GAME DAY!!!!      T MIN...</td>\n",
       "      <td>anger</td>\n",
       "      <td>NONE</td>\n",
       "    </tr>\n",
       "    <tr>\n",
       "      <th>2</th>\n",
       "      <td>10943</td>\n",
       "      <td>This game has pissed me off more than any othe...</td>\n",
       "      <td>anger</td>\n",
       "      <td>NONE</td>\n",
       "    </tr>\n",
       "    <tr>\n",
       "      <th>3</th>\n",
       "      <td>10944</td>\n",
       "      <td>@spamvicious I've just found out it's Candice ...</td>\n",
       "      <td>anger</td>\n",
       "      <td>NONE</td>\n",
       "    </tr>\n",
       "    <tr>\n",
       "      <th>4</th>\n",
       "      <td>10945</td>\n",
       "      <td>@moocowward @mrsajhargreaves @Melly77 @GaryBar...</td>\n",
       "      <td>anger</td>\n",
       "      <td>NONE</td>\n",
       "    </tr>\n",
       "  </tbody>\n",
       "</table>\n",
       "</div>"
      ],
      "text/plain": [
       "      id                                              tweet emotion score\n",
       "0  10941  At the point today where if someone says somet...   anger  NONE\n",
       "1  10942  @CorningFootball  IT'S GAME DAY!!!!      T MIN...   anger  NONE\n",
       "2  10943  This game has pissed me off more than any othe...   anger  NONE\n",
       "3  10944  @spamvicious I've just found out it's Candice ...   anger  NONE\n",
       "4  10945  @moocowward @mrsajhargreaves @Melly77 @GaryBar...   anger  NONE"
      ]
     },
     "execution_count": 31,
     "metadata": {},
     "output_type": "execute_result"
    }
   ],
   "source": [
    "anger_test.head()"
   ]
  },
  {
   "cell_type": "code",
   "execution_count": 32,
   "metadata": {},
   "outputs": [
    {
     "data": {
      "text/html": [
       "<div>\n",
       "<style scoped>\n",
       "    .dataframe tbody tr th:only-of-type {\n",
       "        vertical-align: middle;\n",
       "    }\n",
       "\n",
       "    .dataframe tbody tr th {\n",
       "        vertical-align: top;\n",
       "    }\n",
       "\n",
       "    .dataframe thead th {\n",
       "        text-align: right;\n",
       "    }\n",
       "</style>\n",
       "<table border=\"1\" class=\"dataframe\">\n",
       "  <thead>\n",
       "    <tr style=\"text-align: right;\">\n",
       "      <th></th>\n",
       "      <th>id</th>\n",
       "      <th>tweet</th>\n",
       "      <th>emotion</th>\n",
       "      <th>score</th>\n",
       "    </tr>\n",
       "  </thead>\n",
       "  <tbody>\n",
       "    <tr>\n",
       "      <th>0</th>\n",
       "      <td>30902</td>\n",
       "      <td>You must be knowing #blithe means (adj.)  Happ...</td>\n",
       "      <td>joy</td>\n",
       "      <td>NONE</td>\n",
       "    </tr>\n",
       "    <tr>\n",
       "      <th>1</th>\n",
       "      <td>30903</td>\n",
       "      <td>Old saying 'A #smile shared is one gained for ...</td>\n",
       "      <td>joy</td>\n",
       "      <td>NONE</td>\n",
       "    </tr>\n",
       "    <tr>\n",
       "      <th>2</th>\n",
       "      <td>30904</td>\n",
       "      <td>Bridget Jones' Baby was bloody hilarious ðŸ˜… ...</td>\n",
       "      <td>joy</td>\n",
       "      <td>NONE</td>\n",
       "    </tr>\n",
       "    <tr>\n",
       "      <th>3</th>\n",
       "      <td>30905</td>\n",
       "      <td>@Elaminova sparkling water makes your life spa...</td>\n",
       "      <td>joy</td>\n",
       "      <td>NONE</td>\n",
       "    </tr>\n",
       "    <tr>\n",
       "      <th>4</th>\n",
       "      <td>30906</td>\n",
       "      <td>I'm tired of everybody telling me to chill out...</td>\n",
       "      <td>joy</td>\n",
       "      <td>NONE</td>\n",
       "    </tr>\n",
       "    <tr>\n",
       "      <th>...</th>\n",
       "      <td>...</td>\n",
       "      <td>...</td>\n",
       "      <td>...</td>\n",
       "      <td>...</td>\n",
       "    </tr>\n",
       "    <tr>\n",
       "      <th>709</th>\n",
       "      <td>31611</td>\n",
       "      <td>With a very tired body and mind and sparkling ...</td>\n",
       "      <td>joy</td>\n",
       "      <td>NONE</td>\n",
       "    </tr>\n",
       "    <tr>\n",
       "      <th>710</th>\n",
       "      <td>31612</td>\n",
       "      <td>I refuse to be a chirp chirp girl</td>\n",
       "      <td>joy</td>\n",
       "      <td>NONE</td>\n",
       "    </tr>\n",
       "    <tr>\n",
       "      <th>711</th>\n",
       "      <td>31613</td>\n",
       "      <td>It was very hard to stifle my laughter after I...</td>\n",
       "      <td>joy</td>\n",
       "      <td>NONE</td>\n",
       "    </tr>\n",
       "    <tr>\n",
       "      <th>712</th>\n",
       "      <td>31614</td>\n",
       "      <td>While I was walking, a little boy in a red shi...</td>\n",
       "      <td>joy</td>\n",
       "      <td>NONE</td>\n",
       "    </tr>\n",
       "    <tr>\n",
       "      <th>713</th>\n",
       "      <td>31615</td>\n",
       "      <td>Asked one thing from our guys tonight and got ...</td>\n",
       "      <td>joy</td>\n",
       "      <td>NONE</td>\n",
       "    </tr>\n",
       "  </tbody>\n",
       "</table>\n",
       "<p>714 rows × 4 columns</p>\n",
       "</div>"
      ],
      "text/plain": [
       "        id                                              tweet emotion score\n",
       "0    30902  You must be knowing #blithe means (adj.)  Happ...     joy  NONE\n",
       "1    30903  Old saying 'A #smile shared is one gained for ...     joy  NONE\n",
       "2    30904  Bridget Jones' Baby was bloody hilarious ðŸ˜… ...     joy  NONE\n",
       "3    30905  @Elaminova sparkling water makes your life spa...     joy  NONE\n",
       "4    30906  I'm tired of everybody telling me to chill out...     joy  NONE\n",
       "..     ...                                                ...     ...   ...\n",
       "709  31611  With a very tired body and mind and sparkling ...     joy  NONE\n",
       "710  31612                  I refuse to be a chirp chirp girl     joy  NONE\n",
       "711  31613  It was very hard to stifle my laughter after I...     joy  NONE\n",
       "712  31614  While I was walking, a little boy in a red shi...     joy  NONE\n",
       "713  31615  Asked one thing from our guys tonight and got ...     joy  NONE\n",
       "\n",
       "[714 rows x 4 columns]"
      ]
     },
     "execution_count": 32,
     "metadata": {},
     "output_type": "execute_result"
    }
   ],
   "source": [
    "joy_test"
   ]
  },
  {
   "cell_type": "code",
   "execution_count": 37,
   "metadata": {},
   "outputs": [],
   "source": [
    "def change(data):\n",
    "    for i in range(0, data.shape[0]):\n",
    "        data['tweet'][i]=clean_text(data['tweet'][i])\n",
    "    lis = data['tweet'].values.tolist()\n",
    "    return to_vectors(lis)"
   ]
  },
  {
   "cell_type": "markdown",
   "metadata": {},
   "source": [
    "#### *Anger-test*"
   ]
  },
  {
   "cell_type": "code",
   "execution_count": 38,
   "metadata": {},
   "outputs": [
    {
     "data": {
      "text/plain": [
       "array([[   0,    0,    0, ..., 1088,   49,  259],\n",
       "       [   0,    0,    0, ...,   50,   26, 1089],\n",
       "       [   0,    0,    0, ...,   51,   27,  260],\n",
       "       ...,\n",
       "       [   0,    0,    0, ..., 2401,  252,   58],\n",
       "       [   0,    0,    0, ...,  105,   58,  312],\n",
       "       [   0,    0,    0, ...,   38,  131,  170]])"
      ]
     },
     "execution_count": 38,
     "metadata": {},
     "output_type": "execute_result"
    }
   ],
   "source": [
    "a=change(anger_test)\n",
    "a"
   ]
  },
  {
   "cell_type": "code",
   "execution_count": 39,
   "metadata": {},
   "outputs": [
    {
     "data": {
      "text/plain": [
       "(760, 200)"
      ]
     },
     "execution_count": 39,
     "metadata": {},
     "output_type": "execute_result"
    }
   ],
   "source": [
    "a.shape"
   ]
  },
  {
   "cell_type": "code",
   "execution_count": 41,
   "metadata": {},
   "outputs": [
    {
     "data": {
      "text/html": [
       "<div>\n",
       "<style scoped>\n",
       "    .dataframe tbody tr th:only-of-type {\n",
       "        vertical-align: middle;\n",
       "    }\n",
       "\n",
       "    .dataframe tbody tr th {\n",
       "        vertical-align: top;\n",
       "    }\n",
       "\n",
       "    .dataframe thead th {\n",
       "        text-align: right;\n",
       "    }\n",
       "</style>\n",
       "<table border=\"1\" class=\"dataframe\">\n",
       "  <thead>\n",
       "    <tr style=\"text-align: right;\">\n",
       "      <th></th>\n",
       "      <th>id</th>\n",
       "      <th>tweet</th>\n",
       "      <th>emotion</th>\n",
       "      <th>score</th>\n",
       "    </tr>\n",
       "  </thead>\n",
       "  <tbody>\n",
       "    <tr>\n",
       "      <th>0</th>\n",
       "      <td>10941</td>\n",
       "      <td>point today someone says something remotely ki...</td>\n",
       "      <td>anger</td>\n",
       "      <td>0.514672</td>\n",
       "    </tr>\n",
       "    <tr>\n",
       "      <th>1</th>\n",
       "      <td>10942</td>\n",
       "      <td>game day minus</td>\n",
       "      <td>anger</td>\n",
       "      <td>0.466170</td>\n",
       "    </tr>\n",
       "    <tr>\n",
       "      <th>2</th>\n",
       "      <td>10943</td>\n",
       "      <td>game pissed game year blood boiling time turn</td>\n",
       "      <td>anger</td>\n",
       "      <td>0.452610</td>\n",
       "    </tr>\n",
       "    <tr>\n",
       "      <th>3</th>\n",
       "      <td>10944</td>\n",
       "      <td>found candice candace pout likes</td>\n",
       "      <td>anger</td>\n",
       "      <td>0.410202</td>\n",
       "    </tr>\n",
       "    <tr>\n",
       "      <th>4</th>\n",
       "      <td>10945</td>\n",
       "      <td>come mum th k tweets</td>\n",
       "      <td>anger</td>\n",
       "      <td>0.567684</td>\n",
       "    </tr>\n",
       "    <tr>\n",
       "      <th>...</th>\n",
       "      <td>...</td>\n",
       "      <td>...</td>\n",
       "      <td>...</td>\n",
       "      <td>...</td>\n",
       "    </tr>\n",
       "    <tr>\n",
       "      <th>755</th>\n",
       "      <td>11696</td>\n",
       "      <td>supposed animosity bullshit con iranians</td>\n",
       "      <td>anger</td>\n",
       "      <td>0.413249</td>\n",
       "    </tr>\n",
       "    <tr>\n",
       "      <th>756</th>\n",
       "      <td>11697</td>\n",
       "      <td>byu offense score vs wvu</td>\n",
       "      <td>anger</td>\n",
       "      <td>0.437063</td>\n",
       "    </tr>\n",
       "    <tr>\n",
       "      <th>757</th>\n",
       "      <td>11698</td>\n",
       "      <td>id love c gyimah action coach holding grudge</td>\n",
       "      <td>anger</td>\n",
       "      <td>0.317028</td>\n",
       "    </tr>\n",
       "    <tr>\n",
       "      <th>758</th>\n",
       "      <td>11699</td>\n",
       "      <td>forgiving means operating god spirit amp god u...</td>\n",
       "      <td>anger</td>\n",
       "      <td>0.533166</td>\n",
       "    </tr>\n",
       "    <tr>\n",
       "      <th>759</th>\n",
       "      <td>11700</td>\n",
       "      <td>got lot tokens saved wan na spam event song ey...</td>\n",
       "      <td>anger</td>\n",
       "      <td>0.287658</td>\n",
       "    </tr>\n",
       "  </tbody>\n",
       "</table>\n",
       "<p>760 rows × 4 columns</p>\n",
       "</div>"
      ],
      "text/plain": [
       "        id                                              tweet emotion  \\\n",
       "0    10941  point today someone says something remotely ki...   anger   \n",
       "1    10942                                     game day minus   anger   \n",
       "2    10943      game pissed game year blood boiling time turn   anger   \n",
       "3    10944                   found candice candace pout likes   anger   \n",
       "4    10945                               come mum th k tweets   anger   \n",
       "..     ...                                                ...     ...   \n",
       "755  11696           supposed animosity bullshit con iranians   anger   \n",
       "756  11697                           byu offense score vs wvu   anger   \n",
       "757  11698       id love c gyimah action coach holding grudge   anger   \n",
       "758  11699  forgiving means operating god spirit amp god u...   anger   \n",
       "759  11700  got lot tokens saved wan na spam event song ey...   anger   \n",
       "\n",
       "        score  \n",
       "0    0.514672  \n",
       "1    0.466170  \n",
       "2    0.452610  \n",
       "3    0.410202  \n",
       "4    0.567684  \n",
       "..        ...  \n",
       "755  0.413249  \n",
       "756  0.437063  \n",
       "757  0.317028  \n",
       "758  0.533166  \n",
       "759  0.287658  \n",
       "\n",
       "[760 rows x 4 columns]"
      ]
     },
     "execution_count": 41,
     "metadata": {},
     "output_type": "execute_result"
    }
   ],
   "source": [
    "anger_test['score']=(rnn.predict(a)).ravel()\n",
    "anger_test"
   ]
  },
  {
   "cell_type": "markdown",
   "metadata": {},
   "source": [
    "#### *Fear-test*"
   ]
  },
  {
   "cell_type": "code",
   "execution_count": 47,
   "metadata": {},
   "outputs": [
    {
     "data": {
      "text/html": [
       "<div>\n",
       "<style scoped>\n",
       "    .dataframe tbody tr th:only-of-type {\n",
       "        vertical-align: middle;\n",
       "    }\n",
       "\n",
       "    .dataframe tbody tr th {\n",
       "        vertical-align: top;\n",
       "    }\n",
       "\n",
       "    .dataframe thead th {\n",
       "        text-align: right;\n",
       "    }\n",
       "</style>\n",
       "<table border=\"1\" class=\"dataframe\">\n",
       "  <thead>\n",
       "    <tr style=\"text-align: right;\">\n",
       "      <th></th>\n",
       "      <th>id</th>\n",
       "      <th>tweet</th>\n",
       "      <th>emotion</th>\n",
       "      <th>score</th>\n",
       "    </tr>\n",
       "  </thead>\n",
       "  <tbody>\n",
       "    <tr>\n",
       "      <th>0</th>\n",
       "      <td>21257</td>\n",
       "      <td>ncould somebody shoot nit could videos time tu...</td>\n",
       "      <td>fear</td>\n",
       "      <td>0.470751</td>\n",
       "    </tr>\n",
       "    <tr>\n",
       "      <th>1</th>\n",
       "      <td>21258</td>\n",
       "      <td>really sucks typing mobile device always horri...</td>\n",
       "      <td>fear</td>\n",
       "      <td>0.626901</td>\n",
       "    </tr>\n",
       "    <tr>\n",
       "      <th>2</th>\n",
       "      <td>21259</td>\n",
       "      <td>ones ones actually</td>\n",
       "      <td>fear</td>\n",
       "      <td>0.407360</td>\n",
       "    </tr>\n",
       "    <tr>\n",
       "      <th>3</th>\n",
       "      <td>21260</td>\n",
       "      <td>horrible person gag see people quote</td>\n",
       "      <td>fear</td>\n",
       "      <td>0.589900</td>\n",
       "    </tr>\n",
       "    <tr>\n",
       "      <th>4</th>\n",
       "      <td>21261</td>\n",
       "      <td>fear usually need tim ferriss</td>\n",
       "      <td>fear</td>\n",
       "      <td>0.392631</td>\n",
       "    </tr>\n",
       "  </tbody>\n",
       "</table>\n",
       "</div>"
      ],
      "text/plain": [
       "      id                                              tweet emotion     score\n",
       "0  21257  ncould somebody shoot nit could videos time tu...    fear  0.470751\n",
       "1  21258  really sucks typing mobile device always horri...    fear  0.626901\n",
       "2  21259                                 ones ones actually    fear  0.407360\n",
       "3  21260               horrible person gag see people quote    fear  0.589900\n",
       "4  21261                      fear usually need tim ferriss    fear  0.392631"
      ]
     },
     "execution_count": 47,
     "metadata": {},
     "output_type": "execute_result"
    }
   ],
   "source": [
    "f=change(fear_test)\n",
    "fear_test['score']=(rnn.predict(f)).ravel()\n",
    "fear_test.head()"
   ]
  },
  {
   "cell_type": "markdown",
   "metadata": {},
   "source": [
    "#### *Joy-test*"
   ]
  },
  {
   "cell_type": "code",
   "execution_count": 48,
   "metadata": {},
   "outputs": [
    {
     "data": {
      "text/html": [
       "<div>\n",
       "<style scoped>\n",
       "    .dataframe tbody tr th:only-of-type {\n",
       "        vertical-align: middle;\n",
       "    }\n",
       "\n",
       "    .dataframe tbody tr th {\n",
       "        vertical-align: top;\n",
       "    }\n",
       "\n",
       "    .dataframe thead th {\n",
       "        text-align: right;\n",
       "    }\n",
       "</style>\n",
       "<table border=\"1\" class=\"dataframe\">\n",
       "  <thead>\n",
       "    <tr style=\"text-align: right;\">\n",
       "      <th></th>\n",
       "      <th>id</th>\n",
       "      <th>tweet</th>\n",
       "      <th>emotion</th>\n",
       "      <th>score</th>\n",
       "    </tr>\n",
       "  </thead>\n",
       "  <tbody>\n",
       "    <tr>\n",
       "      <th>0</th>\n",
       "      <td>30902</td>\n",
       "      <td>must knowing means adj happy cheerful</td>\n",
       "      <td>joy</td>\n",
       "      <td>0.388700</td>\n",
       "    </tr>\n",
       "    <tr>\n",
       "      <th>1</th>\n",
       "      <td>30903</td>\n",
       "      <td>old saying shared one gained another day</td>\n",
       "      <td>joy</td>\n",
       "      <td>0.410518</td>\n",
       "    </tr>\n",
       "    <tr>\n",
       "      <th>2</th>\n",
       "      <td>30904</td>\n",
       "      <td>bridget jones baby bloody hilarious</td>\n",
       "      <td>joy</td>\n",
       "      <td>0.373866</td>\n",
       "    </tr>\n",
       "    <tr>\n",
       "      <th>3</th>\n",
       "      <td>30905</td>\n",
       "      <td>sparkling water makes life sparkly</td>\n",
       "      <td>joy</td>\n",
       "      <td>0.487773</td>\n",
       "    </tr>\n",
       "    <tr>\n",
       "      <th>4</th>\n",
       "      <td>30906</td>\n",
       "      <td>tired everybody telling chill everythings ok f...</td>\n",
       "      <td>joy</td>\n",
       "      <td>0.554609</td>\n",
       "    </tr>\n",
       "  </tbody>\n",
       "</table>\n",
       "</div>"
      ],
      "text/plain": [
       "      id                                              tweet emotion     score\n",
       "0  30902              must knowing means adj happy cheerful     joy  0.388700\n",
       "1  30903           old saying shared one gained another day     joy  0.410518\n",
       "2  30904                bridget jones baby bloody hilarious     joy  0.373866\n",
       "3  30905                 sparkling water makes life sparkly     joy  0.487773\n",
       "4  30906  tired everybody telling chill everythings ok f...     joy  0.554609"
      ]
     },
     "execution_count": 48,
     "metadata": {},
     "output_type": "execute_result"
    }
   ],
   "source": [
    "j=change(joy_test)\n",
    "joy_test['score']=(rnn.predict(j)).ravel()\n",
    "joy_test.head()"
   ]
  },
  {
   "cell_type": "markdown",
   "metadata": {},
   "source": [
    "#### *Sadness-test*"
   ]
  },
  {
   "cell_type": "code",
   "execution_count": 49,
   "metadata": {},
   "outputs": [
    {
     "data": {
      "text/html": [
       "<div>\n",
       "<style scoped>\n",
       "    .dataframe tbody tr th:only-of-type {\n",
       "        vertical-align: middle;\n",
       "    }\n",
       "\n",
       "    .dataframe tbody tr th {\n",
       "        vertical-align: top;\n",
       "    }\n",
       "\n",
       "    .dataframe thead th {\n",
       "        text-align: right;\n",
       "    }\n",
       "</style>\n",
       "<table border=\"1\" class=\"dataframe\">\n",
       "  <thead>\n",
       "    <tr style=\"text-align: right;\">\n",
       "      <th></th>\n",
       "      <th>id</th>\n",
       "      <th>tweet</th>\n",
       "      <th>emotion</th>\n",
       "      <th>score</th>\n",
       "    </tr>\n",
       "  </thead>\n",
       "  <tbody>\n",
       "    <tr>\n",
       "      <th>0</th>\n",
       "      <td>40860</td>\n",
       "      <td>teens sons left car get haircuts praying storm...</td>\n",
       "      <td>sadness</td>\n",
       "      <td>0.435554</td>\n",
       "    </tr>\n",
       "    <tr>\n",
       "      <th>1</th>\n",
       "      <td>40861</td>\n",
       "      <td>teens sons left car get haircuts praying storm...</td>\n",
       "      <td>sadness</td>\n",
       "      <td>0.435554</td>\n",
       "    </tr>\n",
       "    <tr>\n",
       "      <th>2</th>\n",
       "      <td>40862</td>\n",
       "      <td>hartramsey suplift still discouraged means lis...</td>\n",
       "      <td>sadness</td>\n",
       "      <td>0.318882</td>\n",
       "    </tr>\n",
       "    <tr>\n",
       "      <th>3</th>\n",
       "      <td>40863</td>\n",
       "      <td>nearly dropped phone sink hahahaha</td>\n",
       "      <td>sadness</td>\n",
       "      <td>0.469940</td>\n",
       "    </tr>\n",
       "    <tr>\n",
       "      <th>4</th>\n",
       "      <td>40864</td>\n",
       "      <td>whenever feeling sad listen monsta x hug teddy...</td>\n",
       "      <td>sadness</td>\n",
       "      <td>0.443424</td>\n",
       "    </tr>\n",
       "  </tbody>\n",
       "</table>\n",
       "</div>"
      ],
      "text/plain": [
       "      id                                              tweet  emotion     score\n",
       "0  40860  teens sons left car get haircuts praying storm...  sadness  0.435554\n",
       "1  40861  teens sons left car get haircuts praying storm...  sadness  0.435554\n",
       "2  40862  hartramsey suplift still discouraged means lis...  sadness  0.318882\n",
       "3  40863                 nearly dropped phone sink hahahaha  sadness  0.469940\n",
       "4  40864  whenever feeling sad listen monsta x hug teddy...  sadness  0.443424"
      ]
     },
     "execution_count": 49,
     "metadata": {},
     "output_type": "execute_result"
    }
   ],
   "source": [
    "s=change(sadness_test)\n",
    "sadness_test['score']=(rnn.predict(s)).ravel()\n",
    "sadness_test.head()"
   ]
  },
  {
   "cell_type": "code",
   "execution_count": null,
   "metadata": {},
   "outputs": [],
   "source": []
  },
  {
   "cell_type": "code",
   "execution_count": null,
   "metadata": {},
   "outputs": [],
   "source": []
  },
  {
   "cell_type": "code",
   "execution_count": null,
   "metadata": {},
   "outputs": [],
   "source": []
  }
 ],
 "metadata": {
  "kernelspec": {
   "display_name": "Python 3",
   "language": "python",
   "name": "python3"
  },
  "language_info": {
   "codemirror_mode": {
    "name": "ipython",
    "version": 3
   },
   "file_extension": ".py",
   "mimetype": "text/x-python",
   "name": "python",
   "nbconvert_exporter": "python",
   "pygments_lexer": "ipython3",
   "version": "3.8.5"
  }
 },
 "nbformat": 4,
 "nbformat_minor": 4
}
